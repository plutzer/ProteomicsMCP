{
 "cells": [
  {
   "cell_type": "code",
   "execution_count": 19,
   "id": "a9742790",
   "metadata": {},
   "outputs": [],
   "source": [
    "from cptac_proteomics import *\n",
    "import pandas as pd\n",
    "import cptac"
   ]
  },
  {
   "cell_type": "code",
   "execution_count": 20,
   "id": "57131a28",
   "metadata": {},
   "outputs": [],
   "source": [
    "result = phospho_tumor_vs_normal('brca', 'A2M_S710,AAAS_S2526')"
   ]
  },
  {
   "cell_type": "code",
   "execution_count": 21,
   "id": "f086140f",
   "metadata": {},
   "outputs": [
    {
     "data": {
      "text/html": [
       "<div>\n",
       "<style scoped>\n",
       "    .dataframe tbody tr th:only-of-type {\n",
       "        vertical-align: middle;\n",
       "    }\n",
       "\n",
       "    .dataframe tbody tr th {\n",
       "        vertical-align: top;\n",
       "    }\n",
       "\n",
       "    .dataframe thead th {\n",
       "        text-align: right;\n",
       "    }\n",
       "</style>\n",
       "<table border=\"1\" class=\"dataframe\">\n",
       "  <thead>\n",
       "    <tr style=\"text-align: right;\">\n",
       "      <th></th>\n",
       "      <th></th>\n",
       "      <th></th>\n",
       "      <th></th>\n",
       "      <th>01BR001</th>\n",
       "      <th>01BR008</th>\n",
       "      <th>01BR009</th>\n",
       "      <th>01BR010</th>\n",
       "      <th>01BR015</th>\n",
       "      <th>01BR017</th>\n",
       "      <th>01BR018</th>\n",
       "      <th>01BR020</th>\n",
       "      <th>01BR023</th>\n",
       "      <th>01BR025</th>\n",
       "      <th>...</th>\n",
       "      <th>20BR005</th>\n",
       "      <th>20BR006</th>\n",
       "      <th>20BR007</th>\n",
       "      <th>20BR008</th>\n",
       "      <th>21BR001</th>\n",
       "      <th>21BR002</th>\n",
       "      <th>21BR010</th>\n",
       "      <th>22BR005</th>\n",
       "      <th>22BR006</th>\n",
       "      <th>604</th>\n",
       "    </tr>\n",
       "  </thead>\n",
       "  <tbody>\n",
       "    <tr>\n",
       "      <th>A2M</th>\n",
       "      <th>S710</th>\n",
       "      <th>LRVGFYESDVMGRGH</th>\n",
       "      <th>ENSG00000175899.15</th>\n",
       "      <td>NaN</td>\n",
       "      <td>NaN</td>\n",
       "      <td>NaN</td>\n",
       "      <td>-10.118359</td>\n",
       "      <td>NaN</td>\n",
       "      <td>-10.399467</td>\n",
       "      <td>NaN</td>\n",
       "      <td>-10.982268</td>\n",
       "      <td>-11.133599</td>\n",
       "      <td>NaN</td>\n",
       "      <td>...</td>\n",
       "      <td>NaN</td>\n",
       "      <td>-12.441053</td>\n",
       "      <td>NaN</td>\n",
       "      <td>NaN</td>\n",
       "      <td>NaN</td>\n",
       "      <td>NaN</td>\n",
       "      <td>-11.468093</td>\n",
       "      <td>-11.357858</td>\n",
       "      <td>NaN</td>\n",
       "      <td>NaN</td>\n",
       "    </tr>\n",
       "  </tbody>\n",
       "</table>\n",
       "<p>1 rows × 122 columns</p>\n",
       "</div>"
      ],
      "text/plain": [
       "                                             01BR001  01BR008  01BR009  \\\n",
       "A2M S710 LRVGFYESDVMGRGH ENSG00000175899.15      NaN      NaN      NaN   \n",
       "\n",
       "                                               01BR010  01BR015    01BR017  \\\n",
       "A2M S710 LRVGFYESDVMGRGH ENSG00000175899.15 -10.118359      NaN -10.399467   \n",
       "\n",
       "                                             01BR018    01BR020    01BR023  \\\n",
       "A2M S710 LRVGFYESDVMGRGH ENSG00000175899.15      NaN -10.982268 -11.133599   \n",
       "\n",
       "                                             01BR025  ...  20BR005    20BR006  \\\n",
       "A2M S710 LRVGFYESDVMGRGH ENSG00000175899.15      NaN  ...      NaN -12.441053   \n",
       "\n",
       "                                             20BR007  20BR008  21BR001  \\\n",
       "A2M S710 LRVGFYESDVMGRGH ENSG00000175899.15      NaN      NaN      NaN   \n",
       "\n",
       "                                             21BR002    21BR010    22BR005  \\\n",
       "A2M S710 LRVGFYESDVMGRGH ENSG00000175899.15      NaN -11.468093 -11.357858   \n",
       "\n",
       "                                             22BR006  604  \n",
       "A2M S710 LRVGFYESDVMGRGH ENSG00000175899.15      NaN  NaN  \n",
       "\n",
       "[1 rows x 122 columns]"
      ]
     },
     "execution_count": 21,
     "metadata": {},
     "output_type": "execute_result"
    }
   ],
   "source": [
    "result_df = pd.DataFrame(result)\n",
    "result_df"
   ]
  },
  {
   "cell_type": "code",
   "execution_count": 22,
   "id": "9a13bc15",
   "metadata": {},
   "outputs": [],
   "source": [
    "cols = result_df.columns.tolist()\n",
    "\n",
    "for col in cols:\n",
    "    if '.N' in col:\n",
    "        print(col)"
   ]
  },
  {
   "cell_type": "code",
   "execution_count": 23,
   "id": "c1cedd12",
   "metadata": {},
   "outputs": [],
   "source": [
    "ov_phospho = get_deduplicated_phospho(cptac.Brca())"
   ]
  },
  {
   "cell_type": "code",
   "execution_count": 24,
   "id": "5075080f",
   "metadata": {},
   "outputs": [],
   "source": [
    "for col in ov_phospho.columns.tolist():\n",
    "    if '.N' in col:\n",
    "        print(col)"
   ]
  },
  {
   "cell_type": "code",
   "execution_count": null,
   "id": "8efefcb6",
   "metadata": {},
   "outputs": [],
   "source": []
  }
 ],
 "metadata": {
  "kernelspec": {
   "display_name": "claude",
   "language": "python",
   "name": "python3"
  },
  "language_info": {
   "codemirror_mode": {
    "name": "ipython",
    "version": 3
   },
   "file_extension": ".py",
   "mimetype": "text/x-python",
   "name": "python",
   "nbconvert_exporter": "python",
   "pygments_lexer": "ipython3",
   "version": "3.11.5"
  }
 },
 "nbformat": 4,
 "nbformat_minor": 5
}
